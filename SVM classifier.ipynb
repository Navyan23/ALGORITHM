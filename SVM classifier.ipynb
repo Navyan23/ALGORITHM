{
 "cells": [
  {
   "cell_type": "code",
   "execution_count": 5,
   "id": "1b56212a",
   "metadata": {},
   "outputs": [],
   "source": [
    "import pandas as pd\n",
    "from sklearn.model_selection import train_test_split\n",
    "from sklearn.preprocessing import MinMaxScaler\n",
    "from sklearn.svm import SVC"
   ]
  },
  {
   "cell_type": "code",
   "execution_count": 13,
   "id": "cfd2e306",
   "metadata": {},
   "outputs": [],
   "source": [
    "fruits = pd.read_table('fruit_data_with_colors.txt')\n",
    "feature_names = ['mass', 'width', 'height', 'color_score']\n",
    "X = fruits[feature_names]    \n",
    "Y = fruits['fruit_label']         "
   ]
  },
  {
   "cell_type": "code",
   "execution_count": 8,
   "id": "7fd534a7",
   "metadata": {},
   "outputs": [],
   "source": [
    "X_train, X_test, Y_train, Y_test = train_test_split(X, Y)\n",
    "X_train = MinMaxScaler().fit_transform(X_train)\n",
    "X_test = MinMaxScaler().fit_transform(X_test)"
   ]
  },
  {
   "cell_type": "code",
   "execution_count": 9,
   "id": "3f4f09e3",
   "metadata": {},
   "outputs": [],
   "source": [
    "svm = SVC().fit(X_train, Y_train)"
   ]
  },
  {
   "cell_type": "code",
   "execution_count": 14,
   "id": "dfeaa59a",
   "metadata": {},
   "outputs": [
    {
     "name": "stdout",
     "output_type": "stream",
     "text": [
      "Accuracy of SVM classifier on training set : 0.95\n",
      "Accuracy of SVM classifier on testing set : 0.73\n"
     ]
    }
   ],
   "source": [
    "print('Accuracy of SVM classifier on training set : {:.2f}'.format(svm.score(X_train, Y_train)))\n",
    "print('Accuracy of SVM classifier on testing set : {:.2f}'.format(svm.score(X_test, Y_test)))"
   ]
  },
  {
   "cell_type": "code",
   "execution_count": null,
   "id": "29b5948c",
   "metadata": {},
   "outputs": [],
   "source": []
  }
 ],
 "metadata": {
  "kernelspec": {
   "display_name": "Python 3 (ipykernel)",
   "language": "python",
   "name": "python3"
  },
  "language_info": {
   "codemirror_mode": {
    "name": "ipython",
    "version": 3
   },
   "file_extension": ".py",
   "mimetype": "text/x-python",
   "name": "python",
   "nbconvert_exporter": "python",
   "pygments_lexer": "ipython3",
   "version": "3.9.7"
  }
 },
 "nbformat": 4,
 "nbformat_minor": 5
}
